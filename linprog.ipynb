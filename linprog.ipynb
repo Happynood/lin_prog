{
 "cells": [
  {
   "cell_type": "markdown",
   "metadata": {},
   "source": [
    "**Лексикографический симлекс-метод**"
   ]
  },
  {
   "cell_type": "code",
   "execution_count": 37,
   "metadata": {},
   "outputs": [],
   "source": [
    "import pandas as pd\n",
    "import copy"
   ]
  },
  {
   "cell_type": "markdown",
   "metadata": {},
   "source": [
    "Имеем некоторую задачу линейного программирования с целовой функцией *v*, ограничениями *a* с вектором *b*."
   ]
  },
  {
   "cell_type": "markdown",
   "metadata": {},
   "source": [
    "\\begin{equation*} \n",
    " 300x_5+80x_6-1219x_7-x_8 \\rightarrow  max \\\\\n",
    "  x_2-8x_5-2x_6+30x_7+\\frac{1}{2}x_8 = 0 \\\\\n",
    "  x_1+\\frac{19}{2}x_5+\\frac{5}{2}x_6-38x_7-\\frac{2}{3}x_8=0 \\\\\n",
    "  x_3+40x_5-3x_6+90x_7+x_8=1 \\\\\n",
    "  x_4+x_8=1\n",
    "\\end{equation*}"
   ]
  },
  {
   "cell_type": "code",
   "execution_count": 38,
   "metadata": {},
   "outputs": [],
   "source": [
    "v = [0.,0.,0.,0.,300.,80.,-1219.,-1.]\n",
    "a = [[0,1,0,0,-8,-2,30,1/2],\n",
    "     [1,0,0,0,19/2,5/2,-38,-2/3],\n",
    "     [0,0,1,0,40,-3,90,1],\n",
    "     [0,0,0,1,0,0,0,1]\n",
    "]\n",
    "b = [0,0,1,1]"
   ]
  },
  {
   "cell_type": "markdown",
   "metadata": {},
   "source": [
    "Построим задачу по вектор-строкам"
   ]
  },
  {
   "cell_type": "code",
   "execution_count": 39,
   "metadata": {},
   "outputs": [],
   "source": [
    "def rev(lst):\n",
    "    return [ -i for i in lst ]"
   ]
  },
  {
   "cell_type": "code",
   "execution_count": 40,
   "metadata": {},
   "outputs": [
    {
     "name": "stdout",
     "output_type": "stream",
     "text": [
      "[[0, 0, 1, 0, 0, -8, -2, 30, 0.5], [0, 1, 0, 0, 0, 9.5, 2.5, -38, -0.6666666666666666], [1, 0, 0, 1, 0, 40, -3, 90, 1], [1, 0, 0, 0, 1, 0, 0, 0, 1], [0, -0.0, -0.0, -0.0, -0.0, -300.0, -80.0, 1219.0, 1.0]]\n"
     ]
    }
   ],
   "source": [
    "lin_prog = a\n",
    "lin_prog.insert(4,rev(v))\n",
    "lin_prog[4].insert(0,0)\n",
    "for x in range(4):\n",
    "  lin_prog[x].insert(0,b[x])\n",
    "print(lin_prog)"
   ]
  },
  {
   "cell_type": "markdown",
   "metadata": {},
   "source": [
    "Попробуем обычный симплекс-метод и получим наше ожидаемое зацикливание.\n",
    "Запустим цикл с занесением в ппамять наших симплекс-таблиц для обнаружения начала зацикливания."
   ]
  },
  {
   "cell_type": "code",
   "execution_count": 41,
   "metadata": {},
   "outputs": [],
   "source": [
    "def check(hist,it):\n",
    "  if(len(hist)==0): return False\n",
    "  for x in range(len(hist)):\n",
    "    for i in range(len(hist[0])):\n",
    "      for j in range(len(hist[0][0])):\n",
    "        if(it[i][j]==hist[x][i][j]): return False\n",
    "  return True"
   ]
  },
  {
   "cell_type": "code",
   "execution_count": 42,
   "metadata": {},
   "outputs": [],
   "source": [
    "def iter(a):\n",
    "  max_x = 0\n",
    "  max_y = 0\n",
    "  while a[4][max_x]>=0:\n",
    "    max_x+=1\n",
    "    if max_x>8: \n",
    "      print('Оптимальное решение найдено')\n",
    "      return a\n",
    "  for x in range(max_x,9):\n",
    "    if abs(a[4][x])>abs(a[4][max_x]) and a[4][x]<0 and a[4][x]!=0 and  a[1][x]>=0 and  a[2][x]>=0 and  a[3][x]>=0 : \n",
    "      max_x = x\n",
    "  while a[max_y][max_x]<=0:\n",
    "    max_y+=1\n",
    "  for y in range(5):\n",
    "    if a[y][max_x] <=0: continue\n",
    "    if a[y][max_x]>0 and abs(a[y][0]/a[y][max_x])<abs(a[max_y][0]/a[max_y][max_x]): max_y = y\n",
    "  b = copy.deepcopy(a)\n",
    "  for i in range(5):\n",
    "    for j in range(9):\n",
    "      if i==max_y:\n",
    "        b[i][j]= a[i][j]/a[max_y][max_x]\n",
    "      if i!=max_y: b[i][j]=a[i][j]- a[i][max_x]*a[max_y][j]/a[max_y][max_x]\n",
    "  return b"
   ]
  },
  {
   "cell_type": "code",
   "execution_count": 43,
   "metadata": {},
   "outputs": [
    {
     "ename": "NameError",
     "evalue": "name 'copy' is not defined",
     "output_type": "error",
     "traceback": [
      "\u001b[1;31m---------------------------------------------------------------------------\u001b[0m",
      "\u001b[1;31mNameError\u001b[0m                                 Traceback (most recent call last)",
      "\u001b[1;32mc:\\Users\\Alexander\\Desktop\\linprog.ipynb Cell 12\u001b[0m line \u001b[0;36m1\n\u001b[1;32m----> <a href='vscode-notebook-cell:/c%3A/Users/Alexander/Desktop/linprog.ipynb#X21sZmlsZQ%3D%3D?line=0'>1</a>\u001b[0m lin_prog_iter \u001b[39m=\u001b[39m copy\u001b[39m.\u001b[39mdeepcopy(lin_prog)\n\u001b[0;32m      <a href='vscode-notebook-cell:/c%3A/Users/Alexander/Desktop/linprog.ipynb#X21sZmlsZQ%3D%3D?line=1'>2</a>\u001b[0m \u001b[39mfor\u001b[39;00m x \u001b[39min\u001b[39;00m \u001b[39mrange\u001b[39m(\u001b[39m7\u001b[39m):\n\u001b[0;32m      <a href='vscode-notebook-cell:/c%3A/Users/Alexander/Desktop/linprog.ipynb#X21sZmlsZQ%3D%3D?line=2'>3</a>\u001b[0m   \u001b[39mprint\u001b[39m(\u001b[39mstr\u001b[39m(x)\u001b[39m+\u001b[39m\u001b[39m'\u001b[39m\u001b[39m ITERATION\u001b[39m\u001b[39m\\n\u001b[39;00m\u001b[39m'\u001b[39m)\n",
      "\u001b[1;31mNameError\u001b[0m: name 'copy' is not defined"
     ]
    }
   ],
   "source": [
    "lin_prog_iter = copy.deepcopy(lin_prog)\n",
    "for x in range(7):\n",
    "  print(str(x)+' ITERATION\\n')\n",
    "  df = pd.DataFrame(columns = ['X_','X1','X2','X3','X4','X5','X6','X7','X8'],data = lin_prog_iter)\n",
    "  print(df,'\\n\\n')\n",
    "  lin_prog_iter=iter(lin_prog_iter)"
   ]
  },
  {
   "cell_type": "markdown",
   "metadata": {},
   "source": [
    "На **7 итерации** получили симлекс-таблицу идентичную таблице стартовой итерации, то есть произошло **зацикливание**. Причиной этому является появление в столбце **X_** нулевых значений, обнуляющих симплекс-разности."
   ]
  },
  {
   "cell_type": "markdown",
   "metadata": {},
   "source": [
    "Одним из эффективных решений проблемы зацикливания является **лексикографический симлекс метод**. Для начала необходимо ввести несколько определений."
   ]
  },
  {
   "cell_type": "markdown",
   "metadata": {},
   "source": [
    "Вектор q – **лексикографически положителен** (q>0), если его\n",
    "первый отличный от нуля элемент положителен."
   ]
  },
  {
   "cell_type": "markdown",
   "metadata": {},
   "source": [
    "Вектор q **лексикографически больше** вектора p (q>p), если\n",
    "q-p>0."
   ]
  },
  {
   "cell_type": "markdown",
   "metadata": {},
   "source": [
    "Симплекс-таблицу, все строки которой лексикографически\n",
    "положительны, будем называть **лексикографически допустимой**."
   ]
  },
  {
   "cell_type": "markdown",
   "metadata": {},
   "source": [
    "**`Лемма:`** Если симплекс-таблица лексикографически допустима, а номера вводимого и выводимого из базиса векторов таковы,\n",
    "что выполняется условие\n",
    "\\begin{align}\n",
    " \\vec{\\mathbf{S}}_r= (\\frac{\\mathbf{X}r0}{\\mathbf{X}rs}, ..., \\frac{\\mathbf{X}r0}{\\mathbf{X}rs}) & = lexmin_{x_{sk>0}}\\{\\vec{\\mathbf{S}}_k\\}\\\\ (1)\n",
    "\\end{align}\n",
    "\n",
    "то новая симплекс-таблица будет также лексикографически допустимой. "
   ]
  },
  {
   "cell_type": "markdown",
   "metadata": {},
   "source": [
    "**`Теорема: `** Если на каждом шаге симплекс-метода при выборе вводимого и выводимого из базиса векторов выполняется условие (1), то количество шагов, которое необходимо осуществить до остановки по признаку оптимальности или неограниченности целевой функции сверху, конечно. "
   ]
  },
  {
   "cell_type": "markdown",
   "metadata": {},
   "source": [
    "Применяя полученную теорию, пересчитаем нашу задачу. Наша задача уже является лексикографически допустимой."
   ]
  },
  {
   "cell_type": "code",
   "execution_count": null,
   "metadata": {},
   "outputs": [],
   "source": [
    "def iter_lex(a):\n",
    "  max_x = 0\n",
    "  max_y = 0\n",
    "  while a[4][max_x]>=0:\n",
    "    max_x+=1\n",
    "    if max_x>8: \n",
    "      print('Оптимальное решение найдено')\n",
    "      return a\n",
    "  for x in range(max_x,9):\n",
    "    if abs(a[4][x])>abs(a[4][max_x]) and a[4][x]<0 and a[4][x]!=0 and  a[1][x]>=0 and  a[2][x]>=0 and  a[3][x]>=0 : \n",
    "      max_x = x\n",
    "  while a[max_y][max_x]<=0:\n",
    "    max_y+=1\n",
    "  for y in range(5):\n",
    "    if a[y][max_x] <=0: continue\n",
    "    if a[y][max_x]>0 and abs(a[y][0]/a[y][max_x])<abs(a[max_y][0]/a[max_y][max_x]): max_y = y\n",
    "    if a[y][max_x]>0 and abs(a[y][0]/a[y][max_x])==abs(a[max_y][0]/a[max_y][max_x]):\n",
    "      for i in range(1,5):\n",
    "          if a[y][max_x]>0 and abs(a[y][i]/a[y][max_x])==abs(a[max_y][i]/a[max_y][max_x]): pass\n",
    "          if a[y][max_x]>0 and abs(a[y][i]/a[y][max_x])<abs(a[max_y][i]/a[max_y][max_x]): \n",
    "            max_y = y\n",
    "            break\n",
    "  b = copy.deepcopy(a)\n",
    "  for i in range(5):\n",
    "    for j in range(9):\n",
    "      if i==max_y:\n",
    "        b[i][j]= a[i][j]/a[max_y][max_x]\n",
    "      if i!=max_y: b[i][j]=a[i][j]- a[i][max_x]*a[max_y][j]/a[max_y][max_x]\n",
    "  return b"
   ]
  },
  {
   "cell_type": "code",
   "execution_count": null,
   "metadata": {},
   "outputs": [],
   "source": [
    "lin_prog_iter = copy.deepcopy(lin_prog)\n",
    "for x in range(4):\n",
    "  print(str(x)+' ITERATION\\n')\n",
    "  df = pd.DataFrame(columns = ['X_','X1','X2','X3','X4','X5','X6','X7','X8'],data = lin_prog_iter)\n",
    "  print(df,'\\n\\n')\n",
    "  lin_prog_iter=iter_lex(lin_prog_iter)"
   ]
  },
  {
   "cell_type": "markdown",
   "metadata": {},
   "source": [
    "**Оптимальное решение найдено!**"
   ]
  },
  {
   "cell_type": "markdown",
   "metadata": {},
   "source": [
    "**Вывод:** относительно простым и удобным вариантом решения проблемы зациливания является лексикографический симлекс-метод, подходящий для ручного решения задач линейного программирования с заранее подготовленной таблицей."
   ]
  }
 ],
 "metadata": {
  "kernelspec": {
   "display_name": "Python 3",
   "language": "python",
   "name": "python3"
  },
  "language_info": {
   "codemirror_mode": {
    "name": "ipython",
    "version": 3
   },
   "file_extension": ".py",
   "mimetype": "text/x-python",
   "name": "python",
   "nbconvert_exporter": "python",
   "pygments_lexer": "ipython3",
   "version": "3.11.3"
  }
 },
 "nbformat": 4,
 "nbformat_minor": 2
}
